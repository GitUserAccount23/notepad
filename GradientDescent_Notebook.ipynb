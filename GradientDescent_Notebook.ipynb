{
 "cells": [
  {
   "cell_type": "code",
   "execution_count": 69,
   "metadata": {},
   "outputs": [
    {
     "name": "stdout",
     "output_type": "stream",
     "text": [
      "Model Accuracy:  1.0\n"
     ]
    }
   ],
   "source": [
    "import numpy as np\n",
    "import pandas as pd\n",
    "import random\n",
    "from sklearn.metrics import mean_squared_error\n",
    "\n",
    "dataset3 = pd.read_csv(\"F://dataset_3.csv\")\n",
    "dataset3['Survived'] = dataset3[\"Survived\"].replace(\" \",np.nan)\n",
    "dataset3 = dataset3[dataset3[\"Survived\"].notnull()]\n",
    "dataset3 = dataset3.reset_index()[dataset3.columns]\n",
    "\n",
    "dataset3['Survived'] = dataset3['Survived'].replace(np.nan, 0)\n",
    "dataset3['Pclass'] = dataset3['Pclass'].replace(np.nan, 0)\n",
    "dataset3['Age'] = dataset3['Age'].replace(np.nan, 0)\n",
    "\n",
    "dataset3_data = dataset3[[\"Pclass\", \"Age\", \"SibSp\", \"Parch\", \"Fare\"]] \n",
    "dataset3_target = dataset3[\"Survived\"]\n",
    "\n",
    "x = dataset3_data[[\"Pclass\", \"Age\"]].to_numpy()\n",
    "y = dataset3_target.to_numpy()\n",
    "mi, nn = np.shape(x)\n",
    "tata = np.ones(nn)\n",
    "\n",
    "transposed = x.transpose()\n",
    "for i in range(0, 10):\n",
    "    Comp1 = np.dot(x, tata)\n",
    "    Comp2 = Comp1 - y\n",
    "    Comp3 = np.dot(transposed, Comp2) / mi\n",
    "    tata = tata - 0.0005 * Comp3\n",
    "print(\"Model Accuracy: \", round(tata[0],0))"
   ]
  },
  {
   "cell_type": "code",
   "execution_count": null,
   "metadata": {},
   "outputs": [],
   "source": []
  }
 ],
 "metadata": {
  "kernelspec": {
   "display_name": "Python 3",
   "language": "python",
   "name": "python3"
  },
  "language_info": {
   "codemirror_mode": {
    "name": "ipython",
    "version": 3
   },
   "file_extension": ".py",
   "mimetype": "text/x-python",
   "name": "python",
   "nbconvert_exporter": "python",
   "pygments_lexer": "ipython3",
   "version": "3.8.5"
  }
 },
 "nbformat": 4,
 "nbformat_minor": 4
}
