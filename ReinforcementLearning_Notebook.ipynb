{
 "cells": [
  {
   "cell_type": "code",
   "execution_count": 30,
   "metadata": {},
   "outputs": [],
   "source": [
    "import numpy as np\n",
    "import random\n",
    "from IPython.display import clear_output\n",
    "import gym"
   ]
  },
  {
   "cell_type": "code",
   "execution_count": 31,
   "metadata": {},
   "outputs": [
    {
     "name": "stdout",
     "output_type": "stream",
     "text": [
      "+---------+\n",
      "|R: | : :\u001b[35mG\u001b[0m|\n",
      "| : | :\u001b[43m \u001b[0m: |\n",
      "| : : : : |\n",
      "| | : | : |\n",
      "|\u001b[34;1mY\u001b[0m| : |B: |\n",
      "+---------+\n",
      "\n"
     ]
    }
   ],
   "source": [
    "import gym\n",
    "vals_ev = gym.make(\"Taxi-v3\").env\n",
    "vals_ev.render()"
   ]
  },
  {
   "cell_type": "code",
   "execution_count": 32,
   "metadata": {},
   "outputs": [],
   "source": [
    "storing_dats = np.zeros([vals_ev.observation_space.n, vals_ev.action_space.n])"
   ]
  },
  {
   "cell_type": "code",
   "execution_count": 33,
   "metadata": {},
   "outputs": [
    {
     "name": "stdout",
     "output_type": "stream",
     "text": [
      "iterations: 50000\n",
      "+---------+\n",
      "|R: | : :G|\n",
      "| : | : : |\n",
      "| : : : : |\n",
      "| | : | : |\n",
      "|\u001b[35m\u001b[34;1m\u001b[43mY\u001b[0m\u001b[0m\u001b[0m| : |B: |\n",
      "+---------+\n",
      "  (Dropoff)\n"
     ]
    }
   ],
   "source": [
    "for iterations in range(0, 50000):\n",
    "    condition = vals_ev.reset()\n",
    "    incremt = 0\n",
    "    decleare = False\n",
    "    while not decleare:\n",
    "        if random.uniform(0, 1) < 0.1:\n",
    "            takes = vals_ev.action_space.sample()\n",
    "        else:\n",
    "            takes = np.argmax(storing_dats[condition])\n",
    "        new_vals, incremt, decleare, info = vals_ev.step(takes) \n",
    "        storingQ = storing_dats[condition, takes]\n",
    "        highest_val = np.max(storing_dats[new_vals])\n",
    "        new_storingQ = (1 - 0.1) * storingQ + 0.1 * (incremt + 0.6 * highest_val)\n",
    "        storing_dats[condition, takes] = new_storingQ\n",
    "        condition = new_vals\n",
    "    if (iterations + 1) % 100 == 0:\n",
    "        clear_output(wait=True)\n",
    "        print(\"iterations: {}\".format(iterations + 1))\n",
    "        vals_ev.render()"
   ]
  },
  {
   "cell_type": "code",
   "execution_count": 34,
   "metadata": {},
   "outputs": [
    {
     "name": "stdout",
     "output_type": "stream",
     "text": [
      "counts per iterations: 0.02598\n",
      "penalty per iterations: 0.0\n"
     ]
    }
   ],
   "source": [
    "max_counts = 0\n",
    "highes_penalty = 0\n",
    "for _ in range(100):\n",
    "    condition = vals_ev.reset()\n",
    "    counts = 0\n",
    "    penalty = 0\n",
    "    incremt = 0\n",
    "    \n",
    "    decleare = False\n",
    "    \n",
    "    while not decleare:\n",
    "        takes = np.argmax(storing_dats[condition])\n",
    "        condition, incremt, decleare, info = vals_ev.step(takes)\n",
    "\n",
    "        if incremt == -10:\n",
    "            penalty += 1\n",
    "\n",
    "        counts += 1\n",
    "\n",
    "    highes_penalty += penalty\n",
    "    max_counts += counts\n",
    "\n",
    "print(\"counts per iterations: {}\".format(max_counts / 50000))\n",
    "print(\"penalty per iterations: {}\".format(highes_penalty / 50000))"
   ]
  },
  {
   "cell_type": "code",
   "execution_count": null,
   "metadata": {},
   "outputs": [],
   "source": []
  },
  {
   "cell_type": "code",
   "execution_count": null,
   "metadata": {},
   "outputs": [],
   "source": []
  }
 ],
 "metadata": {
  "kernelspec": {
   "display_name": "Python 3",
   "language": "python",
   "name": "python3"
  }
 },
 "nbformat": 4,
 "nbformat_minor": 4
}
