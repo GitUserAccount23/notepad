{
 "cells": [
  {
   "cell_type": "code",
   "execution_count": 20,
   "metadata": {},
   "outputs": [
    {
     "name": "stdout",
     "output_type": "stream",
     "text": [
      "Epoch 1/10\n",
      "38/38 [==============================] - 0s 2ms/step - loss: 0.7304 - accuracy: 0.6887\n",
      "Epoch 2/10\n",
      "38/38 [==============================] - 0s 2ms/step - loss: 0.5620 - accuracy: 0.7361\n",
      "Epoch 3/10\n",
      "38/38 [==============================] - 0s 2ms/step - loss: 0.4731 - accuracy: 0.7652\n",
      "Epoch 4/10\n",
      "38/38 [==============================] - 0s 2ms/step - loss: 0.4809 - accuracy: 0.7836\n",
      "Epoch 5/10\n",
      "38/38 [==============================] - 0s 4ms/step - loss: 0.4836 - accuracy: 0.7863\n",
      "Epoch 6/10\n",
      "38/38 [==============================] - 0s 2ms/step - loss: 0.4721 - accuracy: 0.7916\n",
      "Epoch 7/10\n",
      "38/38 [==============================] - 0s 2ms/step - loss: 0.4755 - accuracy: 0.7836\n",
      "Epoch 8/10\n",
      "38/38 [==============================] - 0s 2ms/step - loss: 0.5235 - accuracy: 0.7704\n",
      "Epoch 9/10\n",
      "38/38 [==============================] - 0s 2ms/step - loss: 0.4994 - accuracy: 0.7810\n",
      "Epoch 10/10\n",
      "38/38 [==============================] - 0s 2ms/step - loss: 0.4901 - accuracy: 0.8021\n",
      "6/6 [==============================] - 0s 2ms/step - loss: 0.3724 - accuracy: 0.8316\n",
      "Model Accuracy: 0.8315789699554443\n"
     ]
    }
   ],
   "source": [
    "import pandas as pd\n",
    "import numpy as np\n",
    "import keras\n",
    "from keras.models import Sequential\n",
    "from keras.layers import Dense\n",
    "from sklearn.metrics import confusion_matrix\n",
    "from sklearn.model_selection import train_test_split\n",
    "from sklearn import metrics\n",
    "\n",
    "dataset6 = pd.read_csv(\"F://dataset_6.csv\")\n",
    "\n",
    "dataset6_data = dataset6[[\"mean_radius\", \"mean_texture\", \"mean_perimeter\", \"mean_area\", \"mean_smoothness\"]] \n",
    "dataset6_target = dataset6[\"diagnosis\"]\n",
    "\n",
    "\n",
    "x = dataset6_data[[\"mean_radius\", \"mean_texture\", \"mean_perimeter\", \"mean_area\", \"mean_smoothness\"]].to_numpy()\n",
    "y = dataset6_target.to_numpy()\n",
    "X_train1, X_test1, y_train1, y_test1 = train_test_split(x, y, test_size = 1/3, random_state = 0)\n",
    "\n",
    "model = Sequential()\n",
    "model.add(Dense(12, input_dim=X_train1.shape[1], activation='relu'))\n",
    "model.add(Dense(8, activation='relu'))\n",
    "model.add(Dense(1, activation='sigmoid'))\n",
    "model.compile(loss='binary_crossentropy', optimizer='adam', metrics=['accuracy'])\n",
    "model.fit(X_train1,y_train1, epochs=10, batch_size=10)\n",
    "_, accuracy = model.evaluate(X_test1,y_test1)\n",
    "print(\"Model Accuracy:\",accuracy)"
   ]
  },
  {
   "cell_type": "code",
   "execution_count": null,
   "metadata": {},
   "outputs": [],
   "source": []
  }
 ],
 "metadata": {
  "kernelspec": {
   "display_name": "Python 3",
   "language": "python",
   "name": "python3"
  },
  "language_info": {
   "codemirror_mode": {
    "name": "ipython",
    "version": 3
   },
   "file_extension": ".py",
   "mimetype": "text/x-python",
   "name": "python",
   "nbconvert_exporter": "python",
   "pygments_lexer": "ipython3",
   "version": "3.8.5"
  }
 },
 "nbformat": 4,
 "nbformat_minor": 4
}
