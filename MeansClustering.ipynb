{
 "cells": [
  {
   "cell_type": "code",
   "execution_count": 10,
   "metadata": {},
   "outputs": [
    {
     "name": "stderr",
     "output_type": "stream",
     "text": [
      "C:\\Users\\Fawad\\anaconda3\\lib\\site-packages\\pandas\\core\\frame.py:3607: SettingWithCopyWarning: \n",
      "A value is trying to be set on a copy of a slice from a DataFrame.\n",
      "Try using .loc[row_indexer,col_indexer] = value instead\n",
      "\n",
      "See the caveats in the documentation: https://pandas.pydata.org/pandas-docs/stable/user_guide/indexing.html#returning-a-view-versus-a-copy\n",
      "  self._set_item(key, value)\n"
     ]
    }
   ],
   "source": [
    "import numpy as np\n",
    "import pandas as pd\n",
    "from sklearn.cluster import KMeans\n",
    "from sklearn.preprocessing import LabelEncoder \n",
    "\n",
    "dataset4 = pd.read_csv(\"F://dataset_4.csv\")\n",
    "dataset4_data = dataset4[[\"anaemia\", \"age\", \"creatinine_phosphokinase\", \"diabetes\", \"DEATH_EVENT\", \"ejection_fraction\", \"high_blood_pressure\", \"platelets\", \"serum_creatinine\", \"serum_sodium\", \"sex\", \"smoking\", \"time\"]] \n",
    "dataset4_target = dataset4[\"DEATH_EVENT\"]\n",
    "\n",
    "X = dataset4_data[[\"anaemia\", \"age\", \"creatinine_phosphokinase\", \"diabetes\", \"DEATH_EVENT\"]]\n",
    "y = dataset4_data[\"DEATH_EVENT\"]\n",
    "\n",
    "labs = LabelEncoder()\n",
    "X['DEATH_EVENT'] = labs.fit_transform(X['DEATH_EVENT'])\n",
    "y = labs.transform(y) "
   ]
  },
  {
   "cell_type": "code",
   "execution_count": 11,
   "metadata": {},
   "outputs": [],
   "source": [
    "cols_inc = X.columns \n",
    "from sklearn.preprocessing import MinMaxScaler\n",
    "mods = MinMaxScaler() \n",
    "X = mods.fit_transform(X) \n",
    "X = pd.DataFrame(X, columns=[cols_inc]) "
   ]
  },
  {
   "cell_type": "code",
   "execution_count": 14,
   "metadata": {},
   "outputs": [
    {
     "data": {
      "text/plain": [
       "KMeans(n_clusters=2)"
      ]
     },
     "execution_count": 14,
     "metadata": {},
     "output_type": "execute_result"
    }
   ],
   "source": [
    "clustering_Means = KMeans(2) \n",
    "clustering_Means.fit(X)"
   ]
  },
  {
   "cell_type": "code",
   "execution_count": 16,
   "metadata": {},
   "outputs": [
    {
     "name": "stdout",
     "output_type": "stream",
     "text": [
      "Model Accuracy:  0.5551839464882943\n"
     ]
    }
   ],
   "source": [
    "labss = clustering_Means.labels_\n",
    "predicted_correct = sum(y == labss) \n",
    "print(\"Model Accuracy: \", predicted_correct/float(y.size))"
   ]
  },
  {
   "cell_type": "code",
   "execution_count": null,
   "metadata": {},
   "outputs": [],
   "source": []
  }
 ],
 "metadata": {
  "kernelspec": {
   "display_name": "Python 3",
   "language": "python",
   "name": "python3"
  },
  "language_info": {
   "codemirror_mode": {
    "name": "ipython",
    "version": 3
   },
   "file_extension": ".py",
   "mimetype": "text/x-python",
   "name": "python",
   "nbconvert_exporter": "python",
   "pygments_lexer": "ipython3",
   "version": "3.8.5"
  }
 },
 "nbformat": 4,
 "nbformat_minor": 4
}
