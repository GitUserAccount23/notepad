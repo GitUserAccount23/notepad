{
 "cells": [
  {
   "cell_type": "code",
   "execution_count": 43,
   "metadata": {},
   "outputs": [],
   "source": [
    "from numpy import mean\n",
    "from sklearn.model_selection import cross_val_score\n",
    "from sklearn.model_selection import RepeatedStratifiedKFold\n",
    "from sklearn.linear_model import LogisticRegression\n",
    "from sklearn.neighbors import KNeighborsClassifier\n",
    "from sklearn.tree import DecisionTreeClassifier\n",
    "from sklearn.svm import SVC\n",
    "from sklearn.ensemble import StackingClassifier\n",
    "from sklearn.linear_model import LinearRegression"
   ]
  },
  {
   "cell_type": "code",
   "execution_count": 47,
   "metadata": {},
   "outputs": [
    {
     "name": "stdout",
     "output_type": "stream",
     "text": [
      "Accuracy by LR is: 0.699\n",
      "Accuracy by KNN is: 0.624\n",
      "Accuracy by DTree is: 0.585\n",
      "Accuracy by SVM is: 0.686\n",
      "Accuracy by Ensembled is: 0.682\n"
     ]
    }
   ],
   "source": [
    "dataset4 = pd.read_csv(\"F://dataset_4.csv\")\n",
    "dataset4_data = dataset4[[\"anaemia\", \"age\", \"creatinine_phosphokinase\", \"diabetes\", \"ejection_fraction\", \"high_blood_pressure\", \"platelets\", \"serum_creatinine\", \"serum_sodium\", \"sex\", \"smoking\", \"time\"]] \n",
    "dataset4_target = dataset4[\"DEATH_EVENT\"]\n",
    "\n",
    "X = dataset4_data[[\"anaemia\", \"age\", \"creatinine_phosphokinase\", \"diabetes\"]].to_numpy()\n",
    "y = dataset4_target.to_numpy()\n",
    "\n",
    "vals = dict()\n",
    "vals['LR'] = LogisticRegression()\n",
    "vals['KNN'] = KNeighborsClassifier()\n",
    "vals['DTree'] = DecisionTreeClassifier()\n",
    "vals['SVM'] = SVC()\n",
    "\n",
    "dict_1 = list()\n",
    "dict_1.append(('LR', LogisticRegression()))\n",
    "dict_1.append(('KNN', KNeighborsClassifier()))\n",
    "dict_1.append(('DTree', DecisionTreeClassifier()))\n",
    "dict_1.append(('SVM', SVC()))\n",
    "dict_2 = LogisticRegression()\n",
    "vals['Ensembled'] = StackingClassifier(estimators=dict_1, final_estimator=dict_2, cv=5)\n",
    "\n",
    "for algo, computed_val in vals.items():\n",
    "    print('Accuracy by %s is: %.3f' % (algo, mean(cross_val_score(computed_val, X, y, scoring='accuracy', cv=RepeatedStratifiedKFold(n_splits=10, n_repeats=3, random_state=1), n_jobs=-1, error_score='raise'))))"
   ]
  }
 ],
 "metadata": {
  "kernelspec": {
   "display_name": "Python 3",
   "language": "python",
   "name": "python3"
  },
  "language_info": {
   "codemirror_mode": {
    "name": "ipython",
    "version": 3
   },
   "file_extension": ".py",
   "mimetype": "text/x-python",
   "name": "python",
   "nbconvert_exporter": "python",
   "pygments_lexer": "ipython3",
   "version": "3.8.5"
  }
 },
 "nbformat": 4,
 "nbformat_minor": 4
}
