{
 "cells": [
  {
   "cell_type": "code",
   "execution_count": 12,
   "metadata": {},
   "outputs": [],
   "source": [
    "import matplotlib.pyplot as plt\n",
    "import numpy as np\n",
    "import pandas as pd\n",
    "from sklearn.model_selection import train_test_split"
   ]
  },
  {
   "cell_type": "code",
   "execution_count": 56,
   "metadata": {},
   "outputs": [
    {
     "name": "stdout",
     "output_type": "stream",
     "text": [
      "Model Accuracy:  1.0\n"
     ]
    },
    {
     "name": "stderr",
     "output_type": "stream",
     "text": [
      "<ipython-input-56-963d11b87eaf>:32: RuntimeWarning: invalid value encountered in true_divide\n",
      "  acc = 100* (y_evl1/y_evl2)\n"
     ]
    }
   ],
   "source": [
    "iris = pd.read_csv(\"F://dataset_2.csv\")\n",
    "iris[\"Species\"] = pd.factorize(iris['Species'])[0]\n",
    "iris_data = iris[[\"SepalLengthCm\", \"SepalWidthCm\", \"PetalLengthCm\", \"PetalWidthCm\"]] \n",
    "iris_target = iris[\"Species\"]\n",
    "\n",
    "X = iris_data[['PetalLengthCm',\n",
    "                  'PetalWidthCm' ]].to_numpy()\n",
    "Y = iris_target.to_numpy()\n",
    "\n",
    "X_train, X_test, Y_train, Y_test = train_test_split(X, Y, test_size = 1/3, random_state = 0)\n",
    "\n",
    "iterations = 1000\n",
    "learning_rate = 0.01\n",
    "X = X_train\n",
    "Y = Y_train\n",
    "tested = X_test\n",
    "m, n = X.shape\n",
    "W = np.zeros(n)\n",
    "b = 0\n",
    "for i in range(iterations) :\n",
    "    Y_pred = X.dot(W)+b\n",
    "    dW = - (2*(X.T ).dot(Y - Y_pred))/m\n",
    "    db = - 2* np.sum(Y - Y_pred )/m \n",
    "    W = W - learning_rate * dW      \n",
    "    b = b - learning_rate * db    \n",
    "Y_pred = np.round((tested.dot(W)+b),0)\n",
    "Y_pred = Y_pred.astype('int64')\n",
    "\n",
    "y_evl1 = np.round(Y_pred[:3], 2)\n",
    "y_evl2 =Y_test[:3]\n",
    "\n",
    "acc = 100* (y_evl1/y_evl2)\n",
    "accuracy = acc[0]/100\n",
    "print(\"Model Accuracy: \", accuracy)"
   ]
  },
  {
   "cell_type": "code",
   "execution_count": null,
   "metadata": {},
   "outputs": [],
   "source": []
  }
 ],
 "metadata": {
  "kernelspec": {
   "display_name": "Python 3",
   "language": "python",
   "name": "python3"
  },
  "language_info": {
   "codemirror_mode": {
    "name": "ipython",
    "version": 3
   },
   "file_extension": ".py",
   "mimetype": "text/x-python",
   "name": "python",
   "nbconvert_exporter": "python",
   "pygments_lexer": "ipython3",
   "version": "3.8.5"
  }
 },
 "nbformat": 4,
 "nbformat_minor": 4
}
