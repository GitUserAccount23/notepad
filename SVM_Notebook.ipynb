{
 "cells": [
  {
   "cell_type": "code",
   "execution_count": 9,
   "metadata": {},
   "outputs": [],
   "source": [
    "import numpy as np\n",
    "import pandas as pd\n",
    "import random\n",
    "from sklearn.model_selection import train_test_split\n",
    "from sklearn import metrics\n",
    "\n",
    "dataset3 = pd.read_csv(\"F://dataset_3.csv\")\n",
    "dataset3['Survived'] = dataset3[\"Survived\"].replace(\" \",np.nan)\n",
    "dataset3 = dataset3[dataset3[\"Survived\"].notnull()]\n",
    "dataset3 = dataset3.reset_index()[dataset3.columns]\n",
    "\n",
    "dataset3['Survived'] = dataset3['Survived'].replace(np.nan, 0)\n",
    "dataset3['Pclass'] = dataset3['Pclass'].replace(np.nan, 0)\n",
    "dataset3['Age'] = dataset3['Age'].replace(np.nan, 0)\n",
    "\n",
    "dataset3_data = dataset3[[\"Pclass\", \"Age\", \"SibSp\", \"Parch\", \"Fare\"]] \n",
    "dataset3_target = dataset3[\"Survived\"]\n",
    "\n",
    "x = dataset3_data[[\"Pclass\", \"Age\"]].to_numpy()\n",
    "y = dataset3_target.to_numpy()\n",
    "X_train, X_test, Y_train, Y_test = train_test_split(x, y, test_size = 1/3, random_state = 0)"
   ]
  },
  {
   "cell_type": "code",
   "execution_count": 10,
   "metadata": {},
   "outputs": [
    {
     "name": "stdout",
     "output_type": "stream",
     "text": [
      "Model Accuracy: 0.6835016835016835\n"
     ]
    }
   ],
   "source": [
    "from sklearn import svm\n",
    "model_svm = svm.SVC(kernel='linear')\n",
    "model_svm.fit(X_train, Y_train)\n",
    "Predicted_res = model_svm.predict(X_test)\n",
    "print(\"Model Accuracy:\",metrics.accuracy_score(Y_test, Predicted_res))"
   ]
  },
  {
   "cell_type": "code",
   "execution_count": null,
   "metadata": {},
   "outputs": [],
   "source": []
  }
 ],
 "metadata": {
  "kernelspec": {
   "display_name": "Python 3",
   "language": "python",
   "name": "python3"
  },
  "language_info": {
   "codemirror_mode": {
    "name": "ipython",
    "version": 3
   },
   "file_extension": ".py",
   "mimetype": "text/x-python",
   "name": "python",
   "nbconvert_exporter": "python",
   "pygments_lexer": "ipython3",
   "version": "3.8.5"
  }
 },
 "nbformat": 4,
 "nbformat_minor": 4
}
